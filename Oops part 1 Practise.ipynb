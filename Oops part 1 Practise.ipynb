{
 "cells": [
  {
   "cell_type": "code",
   "execution_count": 2,
   "id": "12da4dee",
   "metadata": {},
   "outputs": [],
   "source": [
    "class test:\n",
    "    pass"
   ]
  },
  {
   "cell_type": "code",
   "execution_count": 6,
   "id": "e1613f6c",
   "metadata": {},
   "outputs": [],
   "source": [
    "a=test()"
   ]
  },
  {
   "cell_type": "code",
   "execution_count": 7,
   "id": "5be32088",
   "metadata": {},
   "outputs": [
    {
     "data": {
      "text/plain": [
       "__main__.test"
      ]
     },
     "execution_count": 7,
     "metadata": {},
     "output_type": "execute_result"
    }
   ],
   "source": [
    "type(a)"
   ]
  },
  {
   "cell_type": "code",
   "execution_count": 8,
   "id": "7570c74b",
   "metadata": {},
   "outputs": [
    {
     "name": "stdout",
     "output_type": "stream",
     "text": [
      "<class '__main__.test'>\n"
     ]
    }
   ],
   "source": [
    "print(type(a))"
   ]
  },
  {
   "cell_type": "code",
   "execution_count": 9,
   "id": "71d39298",
   "metadata": {},
   "outputs": [
    {
     "data": {
      "text/plain": [
       "int"
      ]
     },
     "execution_count": 9,
     "metadata": {},
     "output_type": "execute_result"
    }
   ],
   "source": [
    "type(1)"
   ]
  },
  {
   "cell_type": "code",
   "execution_count": 10,
   "id": "62822397",
   "metadata": {},
   "outputs": [],
   "source": [
    "a=1"
   ]
  },
  {
   "cell_type": "code",
   "execution_count": 11,
   "id": "f2fbe8ed",
   "metadata": {},
   "outputs": [
    {
     "data": {
      "text/plain": [
       "int"
      ]
     },
     "execution_count": 11,
     "metadata": {},
     "output_type": "execute_result"
    }
   ],
   "source": [
    "type(a)"
   ]
  },
  {
   "cell_type": "code",
   "execution_count": 13,
   "id": "c3d3ebab",
   "metadata": {},
   "outputs": [
    {
     "name": "stdout",
     "output_type": "stream",
     "text": [
      "<class 'int'>\n"
     ]
    }
   ],
   "source": [
    "print(type(a))"
   ]
  },
  {
   "cell_type": "code",
   "execution_count": 2,
   "id": "ff67bedc",
   "metadata": {},
   "outputs": [],
   "source": [
    "class kolkata:\n",
    "    def welcome_msg(self):\n",
    "        print(\"Welcome in Kolkata\")"
   ]
  },
  {
   "cell_type": "code",
   "execution_count": 23,
   "id": "d4f1f3e5",
   "metadata": {},
   "outputs": [],
   "source": [
    "Rocky= kolkata()"
   ]
  },
  {
   "cell_type": "code",
   "execution_count": 24,
   "id": "62f69cd6",
   "metadata": {},
   "outputs": [
    {
     "name": "stdout",
     "output_type": "stream",
     "text": [
      "<class '__main__.kolkata'>\n"
     ]
    }
   ],
   "source": [
    "print(type(Rocky))"
   ]
  },
  {
   "cell_type": "code",
   "execution_count": 25,
   "id": "9a86824f",
   "metadata": {},
   "outputs": [
    {
     "name": "stdout",
     "output_type": "stream",
     "text": [
      "Welcome in Kolkata\n"
     ]
    }
   ],
   "source": [
    "Rocky.welcome_msg()"
   ]
  },
  {
   "cell_type": "code",
   "execution_count": 3,
   "id": "1869a3f1",
   "metadata": {},
   "outputs": [],
   "source": [
    "Shaw= kolkata()"
   ]
  },
  {
   "cell_type": "code",
   "execution_count": 5,
   "id": "505d7f5a",
   "metadata": {},
   "outputs": [
    {
     "name": "stdout",
     "output_type": "stream",
     "text": [
      "Welcome in Kolkata\n"
     ]
    }
   ],
   "source": [
    "Shaw.welcome_msg()"
   ]
  },
  {
   "cell_type": "code",
   "execution_count": 6,
   "id": "b1e60021",
   "metadata": {},
   "outputs": [],
   "source": [
    "class school:\n",
    "    def __init__(self ,phone_number, email_id, student_id):\n",
    "        self.phone_number= phone_number\n",
    "        self.email_id= email_id\n",
    "        self.student_id= student_id\n",
    "        \n",
    "    def return_student_details(self):\n",
    "        return self.phone_number, self.email_id, self.student_id\n",
    "    "
   ]
  },
  {
   "cell_type": "code",
   "execution_count": 7,
   "id": "151076d5",
   "metadata": {},
   "outputs": [
    {
     "ename": "TypeError",
     "evalue": "school.__init__() missing 3 required positional arguments: 'phone_number', 'email_id', and 'student_id'",
     "output_type": "error",
     "traceback": [
      "\u001b[0;31m---------------------------------------------------------------------------\u001b[0m",
      "\u001b[0;31mTypeError\u001b[0m                                 Traceback (most recent call last)",
      "Cell \u001b[0;32mIn[7], line 1\u001b[0m\n\u001b[0;32m----> 1\u001b[0m rocky\u001b[38;5;241m=\u001b[39m \u001b[43mschool\u001b[49m\u001b[43m(\u001b[49m\u001b[43m)\u001b[49m\n",
      "\u001b[0;31mTypeError\u001b[0m: school.__init__() missing 3 required positional arguments: 'phone_number', 'email_id', and 'student_id'"
     ]
    }
   ],
   "source": [
    "rocky= school()"
   ]
  },
  {
   "cell_type": "code",
   "execution_count": 8,
   "id": "947160bd",
   "metadata": {},
   "outputs": [],
   "source": [
    "rocky= school(8777388194,\"rockyshaw2118@gmail.com\",22352052)"
   ]
  },
  {
   "cell_type": "code",
   "execution_count": 9,
   "id": "8e57bb3e",
   "metadata": {},
   "outputs": [
    {
     "data": {
      "text/plain": [
       "(8777388194, 'rockyshaw2118@gmail.com', 22352052)"
      ]
     },
     "execution_count": 9,
     "metadata": {},
     "output_type": "execute_result"
    }
   ],
   "source": [
    "rocky.return_student_details()"
   ]
  },
  {
   "cell_type": "code",
   "execution_count": 21,
   "id": "122bac8d",
   "metadata": {},
   "outputs": [],
   "source": [
    "class school2:\n",
    "    def __init__(self ,phone_number, email_id, student_id):\n",
    "        self.phone_number2= phone_number\n",
    "        self.email_id2= email_id\n",
    "        self.student_id2= student_id\n",
    "        \n",
    "    def return_student_details(self):\n",
    "        return self.phone_number2, self.email_id2, self.student_id2\n",
    "    "
   ]
  },
  {
   "cell_type": "code",
   "execution_count": 22,
   "id": "77f937f1",
   "metadata": {},
   "outputs": [],
   "source": [
    "shaw= school2(7044211719,\"rockyshawri@icloud.com\",22352052)"
   ]
  },
  {
   "cell_type": "code",
   "execution_count": 23,
   "id": "228f4b8b",
   "metadata": {},
   "outputs": [
    {
     "data": {
      "text/plain": [
       "7044211719"
      ]
     },
     "execution_count": 23,
     "metadata": {},
     "output_type": "execute_result"
    }
   ],
   "source": [
    "shaw.phone_number2"
   ]
  },
  {
   "cell_type": "code",
   "execution_count": 24,
   "id": "d3238e34",
   "metadata": {},
   "outputs": [
    {
     "data": {
      "text/plain": [
       "(7044211719, 'rockyshawri@icloud.com', 22352052)"
      ]
     },
     "execution_count": 24,
     "metadata": {},
     "output_type": "execute_result"
    }
   ],
   "source": [
    "shaw.return_student_details()"
   ]
  },
  {
   "cell_type": "code",
   "execution_count": 25,
   "id": "5b2b0b02",
   "metadata": {},
   "outputs": [],
   "source": [
    "class school3:\n",
    "    def __init__(rock ,phone_number, email_id, student_id):\n",
    "        rock.phone_number2= phone_number\n",
    "        rock.email_id2= email_id\n",
    "        rock.student_id2= student_id\n",
    "        \n",
    "    def return_student_details(self):\n",
    "        return rock.phone_number2, rock.email_id2, rock.student_id2\n",
    "    "
   ]
  },
  {
   "cell_type": "code",
   "execution_count": 27,
   "id": "c57cceeb",
   "metadata": {},
   "outputs": [],
   "source": [
    "mohan= school3(35435456,\"dfgs@213\",665464)"
   ]
  },
  {
   "cell_type": "code",
   "execution_count": 30,
   "id": "9cc588d5",
   "metadata": {},
   "outputs": [
    {
     "data": {
      "text/plain": [
       "35435456"
      ]
     },
     "execution_count": 30,
     "metadata": {},
     "output_type": "execute_result"
    }
   ],
   "source": [
    "mohan.phone_number2"
   ]
  },
  {
   "cell_type": "code",
   "execution_count": 32,
   "id": "50cff933",
   "metadata": {},
   "outputs": [],
   "source": [
    "##POLYMORPHISM"
   ]
  },
  {
   "cell_type": "code",
   "execution_count": null,
   "id": "95c8396b",
   "metadata": {},
   "outputs": [],
   "source": [
    "##ENCAPSULATION"
   ]
  },
  {
   "cell_type": "code",
   "execution_count": 6,
   "id": "07872165",
   "metadata": {},
   "outputs": [],
   "source": [
    "class test:\n",
    "    def __init__(self,a,b):\n",
    "        self.a=a\n",
    "        self.b=b"
   ]
  },
  {
   "cell_type": "code",
   "execution_count": 7,
   "id": "b7c4ee80",
   "metadata": {},
   "outputs": [],
   "source": [
    "t=test(3,4)"
   ]
  },
  {
   "cell_type": "code",
   "execution_count": 8,
   "id": "4eed6cc5",
   "metadata": {},
   "outputs": [
    {
     "data": {
      "text/plain": [
       "3"
      ]
     },
     "execution_count": 8,
     "metadata": {},
     "output_type": "execute_result"
    }
   ],
   "source": [
    "t.a"
   ]
  },
  {
   "cell_type": "code",
   "execution_count": 9,
   "id": "dbcb65af",
   "metadata": {},
   "outputs": [
    {
     "data": {
      "text/plain": [
       "4"
      ]
     },
     "execution_count": 9,
     "metadata": {},
     "output_type": "execute_result"
    }
   ],
   "source": [
    "t.b"
   ]
  },
  {
   "cell_type": "code",
   "execution_count": 10,
   "id": "24c37a9b",
   "metadata": {},
   "outputs": [],
   "source": [
    "t.a= 3456712"
   ]
  },
  {
   "cell_type": "code",
   "execution_count": 11,
   "id": "fcef3119",
   "metadata": {},
   "outputs": [
    {
     "data": {
      "text/plain": [
       "3456712"
      ]
     },
     "execution_count": 11,
     "metadata": {},
     "output_type": "execute_result"
    }
   ],
   "source": [
    "t.a"
   ]
  },
  {
   "cell_type": "code",
   "execution_count": 22,
   "id": "eced2ca9",
   "metadata": {},
   "outputs": [],
   "source": [
    "class car:\n",
    "    def __init__(self, year, make, model, speed):\n",
    "        self.__year= year\n",
    "        self.__make= make\n",
    "        self.__model= model\n",
    "        self.__speed= 0\n",
    "        \n",
    "    def set_speed(self,speed):\n",
    "            self.__speed= 0 if speed<0 else speed\n",
    "    def get_speed(self):\n",
    "            return self.__speed"
   ]
  },
  {
   "cell_type": "code",
   "execution_count": 23,
   "id": "ab3aaf29",
   "metadata": {},
   "outputs": [],
   "source": [
    "c= car(2021, \"toyata\",\"innova\", 12)"
   ]
  },
  {
   "cell_type": "code",
   "execution_count": 24,
   "id": "a0c8ebe2",
   "metadata": {},
   "outputs": [
    {
     "data": {
      "text/plain": [
       "2021"
      ]
     },
     "execution_count": 24,
     "metadata": {},
     "output_type": "execute_result"
    }
   ],
   "source": [
    "c._car__year"
   ]
  },
  {
   "cell_type": "code",
   "execution_count": 25,
   "id": "90fcd281",
   "metadata": {},
   "outputs": [],
   "source": [
    "c.set_speed(-345)"
   ]
  },
  {
   "cell_type": "code",
   "execution_count": 26,
   "id": "29851ec3",
   "metadata": {},
   "outputs": [
    {
     "data": {
      "text/plain": [
       "0"
      ]
     },
     "execution_count": 26,
     "metadata": {},
     "output_type": "execute_result"
    }
   ],
   "source": [
    "c.get_speed()"
   ]
  },
  {
   "cell_type": "code",
   "execution_count": 27,
   "id": "59d0a8e3",
   "metadata": {},
   "outputs": [],
   "source": [
    "c.set_speed(541)"
   ]
  },
  {
   "cell_type": "code",
   "execution_count": 28,
   "id": "4091ef12",
   "metadata": {},
   "outputs": [
    {
     "data": {
      "text/plain": [
       "541"
      ]
     },
     "execution_count": 28,
     "metadata": {},
     "output_type": "execute_result"
    }
   ],
   "source": [
    "c.get_speed()"
   ]
  },
  {
   "cell_type": "code",
   "execution_count": 46,
   "id": "5a49ccf4",
   "metadata": {},
   "outputs": [],
   "source": [
    "class bank_account():\n",
    "    def __init__(self,balance):\n",
    "        self.__balance=balance\n",
    "        \n",
    "    def deposit(self, amount):\n",
    "            self.__balance=self.__balance+amount\n",
    "    def withdraw(self,amount):\n",
    "        if self.__balance>=amount:\n",
    "            self.__balance=self.__balance-amount\n",
    "            return True\n",
    "        else:\n",
    "            return False\n",
    "    def get_balance(self):\n",
    "        return self.__balance\n",
    "    "
   ]
  },
  {
   "cell_type": "code",
   "execution_count": 47,
   "id": "b23d1f7d",
   "metadata": {},
   "outputs": [],
   "source": [
    "Rocky=bank_account(1000)"
   ]
  },
  {
   "cell_type": "code",
   "execution_count": 48,
   "id": "b52e026d",
   "metadata": {},
   "outputs": [],
   "source": [
    "Rocky.deposit(5000)"
   ]
  },
  {
   "cell_type": "code",
   "execution_count": 49,
   "id": "ef7e5806",
   "metadata": {},
   "outputs": [
    {
     "data": {
      "text/plain": [
       "6000"
      ]
     },
     "execution_count": 49,
     "metadata": {},
     "output_type": "execute_result"
    }
   ],
   "source": [
    "Rocky.get_balance()"
   ]
  },
  {
   "cell_type": "code",
   "execution_count": 50,
   "id": "0ebe2880",
   "metadata": {},
   "outputs": [
    {
     "data": {
      "text/plain": [
       "True"
      ]
     },
     "execution_count": 50,
     "metadata": {},
     "output_type": "execute_result"
    }
   ],
   "source": [
    "Rocky.withdraw(3000)"
   ]
  },
  {
   "cell_type": "code",
   "execution_count": 51,
   "id": "c734c91e",
   "metadata": {},
   "outputs": [
    {
     "data": {
      "text/plain": [
       "3000"
      ]
     },
     "execution_count": 51,
     "metadata": {},
     "output_type": "execute_result"
    }
   ],
   "source": [
    "Rocky.get_balance()"
   ]
  },
  {
   "cell_type": "code",
   "execution_count": 52,
   "id": "31390653",
   "metadata": {},
   "outputs": [],
   "source": [
    "Rocky.deposit(5000)"
   ]
  },
  {
   "cell_type": "code",
   "execution_count": 53,
   "id": "d9145bd9",
   "metadata": {},
   "outputs": [
    {
     "data": {
      "text/plain": [
       "8000"
      ]
     },
     "execution_count": 53,
     "metadata": {},
     "output_type": "execute_result"
    }
   ],
   "source": [
    "Rocky.get_balance()"
   ]
  },
  {
   "cell_type": "code",
   "execution_count": 54,
   "id": "9ef7755b",
   "metadata": {},
   "outputs": [],
   "source": [
    "##INHERITANCE"
   ]
  },
  {
   "cell_type": "code",
   "execution_count": 55,
   "id": "78c4c3f0",
   "metadata": {},
   "outputs": [],
   "source": [
    "class test:\n",
    "    def test_meth(self):\n",
    "        return \"this is my first class\""
   ]
  },
  {
   "cell_type": "code",
   "execution_count": 56,
   "id": "995f8d11",
   "metadata": {},
   "outputs": [],
   "source": [
    "class child_test(test):\n",
    "    pass"
   ]
  },
  {
   "cell_type": "code",
   "execution_count": 57,
   "id": "5769c54d",
   "metadata": {},
   "outputs": [],
   "source": [
    "child_test_obj=child_test()"
   ]
  },
  {
   "cell_type": "code",
   "execution_count": 58,
   "id": "0f184ba7",
   "metadata": {},
   "outputs": [
    {
     "data": {
      "text/plain": [
       "'this is my first class'"
      ]
     },
     "execution_count": 58,
     "metadata": {},
     "output_type": "execute_result"
    }
   ],
   "source": [
    "child_test_obj.test_meth()"
   ]
  },
  {
   "cell_type": "code",
   "execution_count": 68,
   "id": "7d2b952e",
   "metadata": {},
   "outputs": [],
   "source": [
    "class class1:\n",
    "    def test_class1(self):\n",
    "        return \"This is meth from class1\"\n",
    "    "
   ]
  },
  {
   "cell_type": "code",
   "execution_count": 69,
   "id": "efc16f43",
   "metadata": {},
   "outputs": [],
   "source": [
    "class class2(class1):\n",
    "    def test_class2(self):\n",
    "        return \"This is method from class2\""
   ]
  },
  {
   "cell_type": "code",
   "execution_count": 70,
   "id": "eae4b820",
   "metadata": {},
   "outputs": [],
   "source": [
    "class class3(class2):\n",
    "    def test_class3(self):\n",
    "        return \"This is method from class3\""
   ]
  },
  {
   "cell_type": "code",
   "execution_count": 71,
   "id": "3c31c02d",
   "metadata": {},
   "outputs": [],
   "source": [
    "obj_class3= class3()"
   ]
  },
  {
   "cell_type": "code",
   "execution_count": 72,
   "id": "60013e60",
   "metadata": {},
   "outputs": [
    {
     "data": {
      "text/plain": [
       "'This is meth from class1'"
      ]
     },
     "execution_count": 72,
     "metadata": {},
     "output_type": "execute_result"
    }
   ],
   "source": [
    "obj_class3.test_class1()"
   ]
  },
  {
   "cell_type": "code",
   "execution_count": 73,
   "id": "70042a86",
   "metadata": {},
   "outputs": [
    {
     "data": {
      "text/plain": [
       "'This is method from class2'"
      ]
     },
     "execution_count": 73,
     "metadata": {},
     "output_type": "execute_result"
    }
   ],
   "source": [
    "obj_class3.test_class2()"
   ]
  },
  {
   "cell_type": "code",
   "execution_count": 76,
   "id": "c69d2e09",
   "metadata": {},
   "outputs": [],
   "source": [
    "class class4:\n",
    "    def test_class4(self):\n",
    "        return \"This is meth from class4\""
   ]
  },
  {
   "cell_type": "code",
   "execution_count": 77,
   "id": "40995188",
   "metadata": {},
   "outputs": [],
   "source": [
    "class class5:\n",
    "    def test_class5(self):\n",
    "        return \"This is meth from class5\""
   ]
  },
  {
   "cell_type": "code",
   "execution_count": 97,
   "id": "ad030157",
   "metadata": {},
   "outputs": [],
   "source": [
    "class class6(class4,class5):\n",
    "    def test_class6(self):\n",
    "        return \"This is meth from class6\""
   ]
  },
  {
   "cell_type": "code",
   "execution_count": 98,
   "id": "ce8e4510",
   "metadata": {},
   "outputs": [],
   "source": [
    "obj_class6= class6()"
   ]
  },
  {
   "cell_type": "code",
   "execution_count": 99,
   "id": "ea808120",
   "metadata": {},
   "outputs": [
    {
     "data": {
      "text/plain": [
       "'This is meth from class4'"
      ]
     },
     "execution_count": 99,
     "metadata": {},
     "output_type": "execute_result"
    }
   ],
   "source": [
    "obj_class6.test_class4()"
   ]
  },
  {
   "cell_type": "code",
   "execution_count": 100,
   "id": "bdea59e1",
   "metadata": {},
   "outputs": [
    {
     "data": {
      "text/plain": [
       "'This is meth from class5'"
      ]
     },
     "execution_count": 100,
     "metadata": {},
     "output_type": "execute_result"
    }
   ],
   "source": [
    "obj_class6.test_class5()"
   ]
  },
  {
   "cell_type": "code",
   "execution_count": 101,
   "id": "a44ba8fd",
   "metadata": {},
   "outputs": [
    {
     "data": {
      "text/plain": [
       "'This is meth from class6'"
      ]
     },
     "execution_count": 101,
     "metadata": {},
     "output_type": "execute_result"
    }
   ],
   "source": [
    "obj_class6.test_class6()"
   ]
  },
  {
   "cell_type": "code",
   "execution_count": 102,
   "id": "f87ba986",
   "metadata": {},
   "outputs": [],
   "source": [
    "##ABSTRACTION"
   ]
  },
  {
   "cell_type": "code",
   "execution_count": 105,
   "id": "6609025d",
   "metadata": {},
   "outputs": [],
   "source": [
    "import abc\n",
    "class tennis:\n",
    "    \n",
    "    @abc.abstractmethod\n",
    "    def forehand(self):\n",
    "        pass\n",
    "    \n",
    "    @abc.abstractmethod\n",
    "    def backhand(self):\n",
    "        pass\n",
    "    \n",
    "    @abc.abstractmethod\n",
    "    def serve(self):\n",
    "        pass"
   ]
  },
  {
   "cell_type": "code",
   "execution_count": 107,
   "id": "b6923efd",
   "metadata": {},
   "outputs": [],
   "source": [
    "class player_details(tennis):\n",
    "    \n",
    "    def forehand(self):\n",
    "        return \"This is forehand details of player details\"\n",
    "    def backhand(self):\n",
    "        return \"This is backhand details of player details\"\n",
    "    "
   ]
  },
  {
   "cell_type": "code",
   "execution_count": 113,
   "id": "2dc6a427",
   "metadata": {},
   "outputs": [],
   "source": [
    "class coach_details(tennis):\n",
    "    \n",
    "    def forehand(self):\n",
    "        return \"This is forehand details of coach details\"\n",
    "    def backhand(self):\n",
    "        return \"This is backhand details of coach details\""
   ]
  },
  {
   "cell_type": "code",
   "execution_count": 117,
   "id": "f2475d05",
   "metadata": {},
   "outputs": [
    {
     "data": {
      "text/plain": [
       "'This is forehand details of player details'"
      ]
     },
     "execution_count": 117,
     "metadata": {},
     "output_type": "execute_result"
    }
   ],
   "source": [
    "dsm= player_details()\n",
    "dsm.forehand()"
   ]
  },
  {
   "cell_type": "code",
   "execution_count": 118,
   "id": "de64a530",
   "metadata": {},
   "outputs": [],
   "source": [
    "class Parent():  \n",
    "    \n",
    "    def __init__(self):  \n",
    "        self.value = \"Inside Parent\"    \n",
    "    def show(self):  \n",
    "        print(self.value)"
   ]
  },
  {
   "cell_type": "code",
   "execution_count": 119,
   "id": "8e7e60ad",
   "metadata": {},
   "outputs": [],
   "source": [
    "  \n",
    "class Child(Parent):      \n",
    "    # Constructor  \n",
    "    def __init__(self):  \n",
    "        self.value = \"Inside Child\"       \n",
    "    \n",
    "    def show(self):  \n",
    "        print(self.value) "
   ]
  },
  {
   "cell_type": "code",
   "execution_count": 120,
   "id": "38bd48fa",
   "metadata": {},
   "outputs": [],
   "source": [
    "obj1 = Parent()  \n",
    "obj2 = Child()"
   ]
  },
  {
   "cell_type": "code",
   "execution_count": 121,
   "id": "674f52b4",
   "metadata": {},
   "outputs": [
    {
     "name": "stdout",
     "output_type": "stream",
     "text": [
      "Inside Parent\n"
     ]
    }
   ],
   "source": [
    "obj1.show()"
   ]
  },
  {
   "cell_type": "code",
   "execution_count": 123,
   "id": "ffedc492",
   "metadata": {},
   "outputs": [
    {
     "name": "stdout",
     "output_type": "stream",
     "text": [
      "Inside Child\n"
     ]
    }
   ],
   "source": [
    "obj2.show()"
   ]
  },
  {
   "cell_type": "code",
   "execution_count": null,
   "id": "5e12f109",
   "metadata": {},
   "outputs": [],
   "source": []
  }
 ],
 "metadata": {
  "kernelspec": {
   "display_name": "Python 3 (ipykernel)",
   "language": "python",
   "name": "python3"
  },
  "language_info": {
   "codemirror_mode": {
    "name": "ipython",
    "version": 3
   },
   "file_extension": ".py",
   "mimetype": "text/x-python",
   "name": "python",
   "nbconvert_exporter": "python",
   "pygments_lexer": "ipython3",
   "version": "3.11.4"
  }
 },
 "nbformat": 4,
 "nbformat_minor": 5
}
