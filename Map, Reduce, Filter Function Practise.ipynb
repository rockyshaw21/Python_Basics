{
 "cells": [
  {
   "cell_type": "code",
   "execution_count": 1,
   "id": "096c8487",
   "metadata": {},
   "outputs": [],
   "source": [
    "l=[3,4,5,6,7]"
   ]
  },
  {
   "cell_type": "code",
   "execution_count": 2,
   "id": "b6a1d102",
   "metadata": {},
   "outputs": [],
   "source": [
    "def test(a):\n",
    "    a1=[]\n",
    "    for i in a:\n",
    "        a1.append(i**2)\n",
    "    return a1    "
   ]
  },
  {
   "cell_type": "code",
   "execution_count": 3,
   "id": "39229e0f",
   "metadata": {},
   "outputs": [
    {
     "data": {
      "text/plain": [
       "[9, 16, 25, 36, 49]"
      ]
     },
     "execution_count": 3,
     "metadata": {},
     "output_type": "execute_result"
    }
   ],
   "source": [
    "test(l)"
   ]
  },
  {
   "cell_type": "code",
   "execution_count": 4,
   "id": "5494d85b",
   "metadata": {},
   "outputs": [],
   "source": [
    "def cb(x):\n",
    "    return x**3"
   ]
  },
  {
   "cell_type": "code",
   "execution_count": 6,
   "id": "5c3e101e",
   "metadata": {},
   "outputs": [
    {
     "data": {
      "text/plain": [
       "[27, 64, 125, 216, 343]"
      ]
     },
     "execution_count": 6,
     "metadata": {},
     "output_type": "execute_result"
    }
   ],
   "source": [
    "list(map(cb,l))"
   ]
  },
  {
   "cell_type": "code",
   "execution_count": 7,
   "id": "572a1f75",
   "metadata": {},
   "outputs": [
    {
     "data": {
      "text/plain": [
       "[9, 16, 25, 36, 49]"
      ]
     },
     "execution_count": 7,
     "metadata": {},
     "output_type": "execute_result"
    }
   ],
   "source": [
    "list(map(lambda x: x**2, l))"
   ]
  },
  {
   "cell_type": "code",
   "execution_count": 8,
   "id": "ac14593e",
   "metadata": {},
   "outputs": [
    {
     "data": {
      "text/plain": [
       "[37, 60, 42, 133, 128]"
      ]
     },
     "execution_count": 8,
     "metadata": {},
     "output_type": "execute_result"
    }
   ],
   "source": [
    "l1=[3,4,21,56,73,86]\n",
    "l2=[34,56,21,77,55]\n",
    "\n",
    "list(map(lambda x,y:x+y, l1,l2))"
   ]
  },
  {
   "cell_type": "code",
   "execution_count": 9,
   "id": "0addef2a",
   "metadata": {},
   "outputs": [],
   "source": [
    "def add(x,y):\n",
    "    return x+y"
   ]
  },
  {
   "cell_type": "code",
   "execution_count": 10,
   "id": "4fd0cf36",
   "metadata": {},
   "outputs": [
    {
     "data": {
      "text/plain": [
       "[37, 60, 42, 133, 128]"
      ]
     },
     "execution_count": 10,
     "metadata": {},
     "output_type": "execute_result"
    }
   ],
   "source": [
    "list(map(add,l1,l2))"
   ]
  },
  {
   "cell_type": "code",
   "execution_count": 13,
   "id": "d9cdffe1",
   "metadata": {},
   "outputs": [],
   "source": [
    "a=[\"Rocky\",\"Shaw\"]"
   ]
  },
  {
   "cell_type": "code",
   "execution_count": 14,
   "id": "074214fe",
   "metadata": {},
   "outputs": [
    {
     "data": {
      "text/plain": [
       "['ROCKY', 'SHAW']"
      ]
     },
     "execution_count": 14,
     "metadata": {},
     "output_type": "execute_result"
    }
   ],
   "source": [
    "list(map(lambda x: x.upper(), a))"
   ]
  },
  {
   "cell_type": "code",
   "execution_count": 15,
   "id": "de2f8810",
   "metadata": {},
   "outputs": [],
   "source": [
    "from functools import reduce"
   ]
  },
  {
   "cell_type": "code",
   "execution_count": 16,
   "id": "21f6a894",
   "metadata": {},
   "outputs": [],
   "source": [
    "l=[3,4,1,2,5,6]"
   ]
  },
  {
   "cell_type": "code",
   "execution_count": 18,
   "id": "42642f00",
   "metadata": {},
   "outputs": [
    {
     "data": {
      "text/plain": [
       "21"
      ]
     },
     "execution_count": 18,
     "metadata": {},
     "output_type": "execute_result"
    }
   ],
   "source": [
    "reduce(lambda x,y:x+y,l)"
   ]
  },
  {
   "cell_type": "code",
   "execution_count": 19,
   "id": "398f42c3",
   "metadata": {},
   "outputs": [
    {
     "data": {
      "text/plain": [
       "720"
      ]
     },
     "execution_count": 19,
     "metadata": {},
     "output_type": "execute_result"
    }
   ],
   "source": [
    "reduce(lambda x,y:x*y,l)"
   ]
  },
  {
   "cell_type": "code",
   "execution_count": 20,
   "id": "0525e44f",
   "metadata": {},
   "outputs": [
    {
     "data": {
      "text/plain": [
       "6"
      ]
     },
     "execution_count": 20,
     "metadata": {},
     "output_type": "execute_result"
    }
   ],
   "source": [
    "reduce(lambda x,y:x if x>y else y,l)"
   ]
  },
  {
   "cell_type": "code",
   "execution_count": 21,
   "id": "4edb9ed6",
   "metadata": {},
   "outputs": [
    {
     "data": {
      "text/plain": [
       "[3, 4, 1, 2, 5, 6]"
      ]
     },
     "execution_count": 21,
     "metadata": {},
     "output_type": "execute_result"
    }
   ],
   "source": [
    "l"
   ]
  },
  {
   "cell_type": "code",
   "execution_count": 22,
   "id": "0a5949b6",
   "metadata": {},
   "outputs": [
    {
     "data": {
      "text/plain": [
       "[4, 2, 6]"
      ]
     },
     "execution_count": 22,
     "metadata": {},
     "output_type": "execute_result"
    }
   ],
   "source": [
    "list(filter(lambda x: x%2==0,l))"
   ]
  },
  {
   "cell_type": "code",
   "execution_count": 23,
   "id": "fda00366",
   "metadata": {},
   "outputs": [
    {
     "data": {
      "text/plain": [
       "[3, 1, 5]"
      ]
     },
     "execution_count": 23,
     "metadata": {},
     "output_type": "execute_result"
    }
   ],
   "source": [
    "list(filter(lambda x: x%2==1,l))"
   ]
  },
  {
   "cell_type": "code",
   "execution_count": 24,
   "id": "3bd98805",
   "metadata": {},
   "outputs": [],
   "source": [
    "l1=[-3,-4,5,6,-78,96,54]"
   ]
  },
  {
   "cell_type": "code",
   "execution_count": 25,
   "id": "da6eae1e",
   "metadata": {},
   "outputs": [
    {
     "data": {
      "text/plain": [
       "[-3, -4, 5, 6, -78, 96, 54]"
      ]
     },
     "execution_count": 25,
     "metadata": {},
     "output_type": "execute_result"
    }
   ],
   "source": [
    "l1"
   ]
  },
  {
   "cell_type": "code",
   "execution_count": 27,
   "id": "f2133f9d",
   "metadata": {},
   "outputs": [
    {
     "data": {
      "text/plain": [
       "[-3, -4, -78]"
      ]
     },
     "execution_count": 27,
     "metadata": {},
     "output_type": "execute_result"
    }
   ],
   "source": [
    "list(filter(lambda x: x<0,l1))"
   ]
  },
  {
   "cell_type": "code",
   "execution_count": 28,
   "id": "f98b02a1",
   "metadata": {},
   "outputs": [],
   "source": [
    "l2=[\"Rocky\",\"Anubhav\",\"Ayanabh\",\"Deepanita\",\"Basu\"]"
   ]
  },
  {
   "cell_type": "code",
   "execution_count": 33,
   "id": "3ab8cec6",
   "metadata": {},
   "outputs": [
    {
     "data": {
      "text/plain": [
       "['Rocky', 'Anubhav', 'Ayanabh', 'Deepanita']"
      ]
     },
     "execution_count": 33,
     "metadata": {},
     "output_type": "execute_result"
    }
   ],
   "source": [
    "list(filter(lambda x: len(x)>=5,l2))"
   ]
  },
  {
   "cell_type": "code",
   "execution_count": null,
   "id": "97b95a4a",
   "metadata": {},
   "outputs": [],
   "source": []
  }
 ],
 "metadata": {
  "kernelspec": {
   "display_name": "Python 3 (ipykernel)",
   "language": "python",
   "name": "python3"
  },
  "language_info": {
   "codemirror_mode": {
    "name": "ipython",
    "version": 3
   },
   "file_extension": ".py",
   "mimetype": "text/x-python",
   "name": "python",
   "nbconvert_exporter": "python",
   "pygments_lexer": "ipython3",
   "version": "3.11.4"
  }
 },
 "nbformat": 4,
 "nbformat_minor": 5
}
