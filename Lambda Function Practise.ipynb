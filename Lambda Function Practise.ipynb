{
 "cells": [
  {
   "cell_type": "code",
   "execution_count": 1,
   "id": "ff6dbe47",
   "metadata": {},
   "outputs": [],
   "source": [
    "n=3\n",
    "p=2"
   ]
  },
  {
   "cell_type": "code",
   "execution_count": 3,
   "id": "4348c219",
   "metadata": {},
   "outputs": [],
   "source": [
    "def test(n,p):\n",
    "    return n**p"
   ]
  },
  {
   "cell_type": "code",
   "execution_count": 4,
   "id": "12f3cf24",
   "metadata": {},
   "outputs": [
    {
     "data": {
      "text/plain": [
       "9"
      ]
     },
     "execution_count": 4,
     "metadata": {},
     "output_type": "execute_result"
    }
   ],
   "source": [
    "test(3,2)"
   ]
  },
  {
   "cell_type": "code",
   "execution_count": 6,
   "id": "7526c81a",
   "metadata": {},
   "outputs": [],
   "source": [
    "a= lambda n, p: n**p"
   ]
  },
  {
   "cell_type": "code",
   "execution_count": 7,
   "id": "4feddd4a",
   "metadata": {},
   "outputs": [
    {
     "data": {
      "text/plain": [
       "9"
      ]
     },
     "execution_count": 7,
     "metadata": {},
     "output_type": "execute_result"
    }
   ],
   "source": [
    "a(3,2)"
   ]
  },
  {
   "cell_type": "code",
   "execution_count": 8,
   "id": "086a0d35",
   "metadata": {},
   "outputs": [],
   "source": [
    "add= lambda x,y: x+y"
   ]
  },
  {
   "cell_type": "code",
   "execution_count": 10,
   "id": "66195ee3",
   "metadata": {},
   "outputs": [
    {
     "data": {
      "text/plain": [
       "7"
      ]
     },
     "execution_count": 10,
     "metadata": {},
     "output_type": "execute_result"
    }
   ],
   "source": [
    "add(3,4)"
   ]
  },
  {
   "cell_type": "code",
   "execution_count": 11,
   "id": "2b2cd2df",
   "metadata": {},
   "outputs": [],
   "source": [
    "c_to_f = lambda c : (9/5)*c + 32"
   ]
  },
  {
   "cell_type": "code",
   "execution_count": 12,
   "id": "343bec71",
   "metadata": {},
   "outputs": [
    {
     "data": {
      "text/plain": [
       "93.2"
      ]
     },
     "execution_count": 12,
     "metadata": {},
     "output_type": "execute_result"
    }
   ],
   "source": [
    "c_to_f(34)"
   ]
  },
  {
   "cell_type": "code",
   "execution_count": 13,
   "id": "295de923",
   "metadata": {},
   "outputs": [],
   "source": [
    "finding_max = lambda x,y: x if x>y else y"
   ]
  },
  {
   "cell_type": "code",
   "execution_count": 14,
   "id": "f1afd345",
   "metadata": {},
   "outputs": [
    {
     "data": {
      "text/plain": [
       "4"
      ]
     },
     "execution_count": 14,
     "metadata": {},
     "output_type": "execute_result"
    }
   ],
   "source": [
    "finding_max(3,4)"
   ]
  },
  {
   "cell_type": "code",
   "execution_count": 15,
   "id": "22d35205",
   "metadata": {},
   "outputs": [],
   "source": [
    "a= \"Rocky\""
   ]
  },
  {
   "cell_type": "code",
   "execution_count": 16,
   "id": "f8acce9b",
   "metadata": {},
   "outputs": [],
   "source": [
    "find_length = lambda s : len(s)"
   ]
  },
  {
   "cell_type": "code",
   "execution_count": 17,
   "id": "3c9d70d5",
   "metadata": {},
   "outputs": [
    {
     "data": {
      "text/plain": [
       "5"
      ]
     },
     "execution_count": 17,
     "metadata": {},
     "output_type": "execute_result"
    }
   ],
   "source": [
    "find_length(a)"
   ]
  },
  {
   "cell_type": "code",
   "execution_count": 18,
   "id": "ca812f38",
   "metadata": {},
   "outputs": [],
   "source": [
    "sq = lambda x:x**2"
   ]
  },
  {
   "cell_type": "code",
   "execution_count": 19,
   "id": "5b7676e9",
   "metadata": {},
   "outputs": [
    {
     "data": {
      "text/plain": [
       "16"
      ]
     },
     "execution_count": 19,
     "metadata": {},
     "output_type": "execute_result"
    }
   ],
   "source": [
    "sq(4)"
   ]
  },
  {
   "cell_type": "code",
   "execution_count": null,
   "id": "dc5946f8",
   "metadata": {},
   "outputs": [],
   "source": []
  }
 ],
 "metadata": {
  "kernelspec": {
   "display_name": "Python 3 (ipykernel)",
   "language": "python",
   "name": "python3"
  },
  "language_info": {
   "codemirror_mode": {
    "name": "ipython",
    "version": 3
   },
   "file_extension": ".py",
   "mimetype": "text/x-python",
   "name": "python",
   "nbconvert_exporter": "python",
   "pygments_lexer": "ipython3",
   "version": "3.11.4"
  }
 },
 "nbformat": 4,
 "nbformat_minor": 5
}
